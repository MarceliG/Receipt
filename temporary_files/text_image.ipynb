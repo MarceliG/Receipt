{
 "cells": [
  {
   "cell_type": "code",
   "execution_count": null,
   "metadata": {},
   "outputs": [],
   "source": [
    "import pytesseract\n",
    "import pandas as pd\n",
    "import PIL\n",
    "import cv2\n",
    "import matplotlib.pyplot as plt"
   ]
  },
  {
   "cell_type": "code",
   "execution_count": null,
   "metadata": {},
   "outputs": [],
   "source": [
    "image_path = \"photos/bill.jpg\"\n",
    "image_napis = \"photos/napis.png\"\n",
    "image_shadow = \"photos/shadows_out_norm.png\""
   ]
  },
  {
   "cell_type": "markdown",
   "metadata": {},
   "source": [
    "Read an image"
   ]
  },
  {
   "cell_type": "code",
   "execution_count": null,
   "metadata": {},
   "outputs": [],
   "source": [
    "image = cv2.imread(filename=image_shadow, flags=0)\n",
    "# flags = 0 grayscale"
   ]
  },
  {
   "cell_type": "code",
   "execution_count": null,
   "metadata": {},
   "outputs": [],
   "source": [
    "# cv2.threshold(image_path, 127, 255, cv2.THRESH_BINARY)\n",
    "\n",
    "ret, thresh1 = cv2.threshold(image, 127, 255, cv2.THRESH_BINARY)\n",
    "ret, thresh2 = cv2.threshold(image, 127, 255, cv2.THRESH_BINARY_INV)\n",
    "ret, thresh3 = cv2.threshold(image, 127, 255, cv2.THRESH_TRUNC)\n",
    "ret, thresh4 = cv2.threshold(image, 127, 255, cv2.THRESH_TOZERO)\n",
    "ret, thresh5 = cv2.threshold(image, 127, 255, cv2.THRESH_TOZERO_INV)\n",
    "\n",
    "titles = [\"Original Image\", \"BINARY\", \"BINARY_INV\", \"TRUNC\", \"TOZERO\", \"TOZERO_INV\"]\n",
    "images = [image, thresh1, thresh2, thresh3, thresh4, thresh5]\n",
    "\n",
    "for i in range(6):\n",
    "    plt.subplot(2, 3, i + 1)\n",
    "    plt.imshow(images[i], \"gray\", vmin=0, vmax=255)\n",
    "    plt.title(titles[i])\n",
    "    plt.xticks([])\n",
    "    plt.yticks([])\n",
    "\n",
    "plt.show()"
   ]
  },
  {
   "cell_type": "markdown",
   "metadata": {},
   "source": [
    "Convert image into text"
   ]
  },
  {
   "cell_type": "code",
   "execution_count": null,
   "metadata": {},
   "outputs": [],
   "source": [
    "def conver_to_text(images):\n",
    "    texts = []\n",
    "\n",
    "    for image in images:\n",
    "        text = (pytesseract.image_to_string(image)).lower()\n",
    "        text = text.split(\"\\n\")\n",
    "        text = [sentence.strip() for sentence in text]\n",
    "        text = [sentence for sentence in text if len(sentence) != 0]\n",
    "        texts.append(text)\n",
    "    return texts"
   ]
  },
  {
   "cell_type": "code",
   "execution_count": null,
   "metadata": {},
   "outputs": [],
   "source": [
    "text_form_images = conver_to_text(images)"
   ]
  },
  {
   "cell_type": "markdown",
   "metadata": {},
   "source": [
    "Add texts to dataframe"
   ]
  },
  {
   "cell_type": "code",
   "execution_count": null,
   "metadata": {},
   "outputs": [],
   "source": [
    "data = {\n",
    "    \"original\": text_form_images[0],\n",
    "    \"binary\": text_form_images[1],\n",
    "    \"binary_inv\": text_form_images[2],\n",
    "    \"trunc\": text_form_images[3],\n",
    "    \"tozero\": text_form_images[4],\n",
    "    \"tozero_inv\": text_form_images[5],\n",
    "}\n",
    "d1 = pd.DataFrame(data=data[\"original\"], columns=[\"original\"])\n",
    "d2 = pd.DataFrame(data[\"binary\"], columns=[\"binary\"])\n",
    "d3 = pd.DataFrame(data[\"binary_inv\"], columns=[\"binary_inv\"])\n",
    "d4 = pd.DataFrame(data[\"trunc\"], columns=[\"trunc\"])\n",
    "d5 = pd.DataFrame(data[\"tozero\"], columns=[\"tozero\"])\n",
    "d6 = pd.DataFrame(data[\"tozero_inv\"], columns=[\"tozero_inv\"])\n",
    "\n",
    "\n",
    "text_data = pd.concat([d1, d2, d3, d4, d5, d6], axis=1)\n",
    "text_data"
   ]
  }
 ],
 "metadata": {
  "kernelspec": {
   "display_name": "Python 3.10.6 ('.venv': venv)",
   "language": "python",
   "name": "python3"
  },
  "language_info": {
   "codemirror_mode": {
    "name": "ipython",
    "version": 3
   },
   "file_extension": ".py",
   "mimetype": "text/x-python",
   "name": "python",
   "nbconvert_exporter": "python",
   "pygments_lexer": "ipython3",
   "version": "3.10.9"
  },
  "orig_nbformat": 4,
  "vscode": {
   "interpreter": {
    "hash": "28545515fc475c3be48665e4e6c44f817ffed683d6dc16fcefd58fab03281583"
   }
  }
 },
 "nbformat": 4,
 "nbformat_minor": 2
}
