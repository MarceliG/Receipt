{
 "cells": [
  {
   "attachments": {},
   "cell_type": "markdown",
   "metadata": {},
   "source": [
    "div#notebook p, div#notebook{\n",
    "    font-size: 130%;\n",
    "    line-height: 125%;\n",
    "}\n",
    ".rendered_html pre, .rendered_html table{\n",
    "    font-size:130%;\n",
    "    line-height: 125%;\n",
    "}\n",
    ".CodeMirror, .CodeMirror pre, .CodeMirror-dialog, .CodeMirror-dialog .CodeMirror-search-field, .terminal-app .terminal {\n",
    "    font-size: 130%;\n",
    "    line-height: 125%;\n",
    "}"
   ]
  },
  {
   "attachments": {},
   "cell_type": "markdown",
   "metadata": {},
   "source": [
    "<div style=style=\"font-size: 20px\">\n",
    "   \n",
    "     your stuffs here\n",
    "\n",
    "</div>"
   ]
  },
  {
   "attachments": {},
   "cell_type": "markdown",
   "metadata": {},
   "source": [
    "!jt -t oceans16 -tf merriserif -tfs 14 -nf ptsans -nfs 14\n",
    "### Reference: https://gist.github.com/endolith/334196bac1cac45a4893\n",
    "\n",
    "##### Automatically detect rotation and line spacing of an image of text using\n",
    "##### Radon transform\n",
    "\n",
    "##### If image is rotated by the inverse of the output, the lines will be\n",
    "##### horizontal (though they may be upside-down depending on the original image)\n",
    "\n",
    "##### It doesn't work with black borders\n",
    "\n",
    "<font size=\"5\">dadasda\n",
    "asdasdsa\n",
    "asdasd</font>\n"
   ]
  },
  {
   "cell_type": "code",
   "execution_count": 1,
   "metadata": {},
   "outputs": [],
   "source": [
    "from __future__ import division, print_function\n",
    "from skimage.transform import radon\n",
    "from PIL import Image\n",
    "from PIL.Image import Resampling\n",
    "from numpy import asarray, mean, array, blackman\n",
    "import numpy\n",
    "from numpy.fft import rfft\n",
    "import matplotlib.pyplot as plt\n",
    "\n",
    "# from matplotlib.mlab import rms_flat\n",
    "from matplotlib import mlab\n",
    "import cv2\n",
    "\n",
    "try:\n",
    "    # More accurate peak finding from\n",
    "    # https://gist.github.com/endolith/255291#file-parabolic-py\n",
    "    from parabolic import parabolic\n",
    "\n",
    "    def argmax(x):\n",
    "        return parabolic(x, numpy.argmax(x))[0]\n",
    "\n",
    "except ImportError:\n",
    "    from numpy import argmax"
   ]
  },
  {
   "cell_type": "code",
   "execution_count": null,
   "metadata": {},
   "outputs": [],
   "source": [
    "name = \"text_\" + \"right\"\n",
    "path_before = f\"project/data/photos/rotate_text/after_remove_shadow/{name}.jpg\"\n",
    "# path_after = f\"photos/rotate_text/after_rotated/{name}.jpg\"\n",
    "\n",
    "# Load file, converting to grayscale\n",
    "I = asarray(Image.open(path_before).convert(\"L\"))"
   ]
  },
  {
   "cell_type": "code",
   "execution_count": null,
   "metadata": {},
   "outputs": [],
   "source": [
    "name = \"text_\" + \"right\"\n",
    "path_before = f\"photos/rotate_text/after_remove_shadow/{name}.jpg\"\n",
    "path_after = f\"photos/rotate_text/after_rotated/{name}.jpg\"\n",
    "\n",
    "# Load file, converting to grayscale\n",
    "I = asarray(Image.open(path_before).convert(\"L\"))\n",
    "I = I - mean(I)  # Demean; make the brightness extend above and below zero\n",
    "plt.subplot(2, 2, 1)\n",
    "plt.imshow(I)\n",
    "\n",
    "# Do the radon transform and display the result\n",
    "sinogram = radon(I)\n",
    "\n",
    "plt.subplot(2, 2, 2)\n",
    "plt.imshow(sinogram.T, aspect=\"auto\")\n",
    "plt.gray()\n",
    "\n",
    "# Find the RMS value of each row and find \"busiest\" rotation,\n",
    "# where the transform is lined up perfectly with the alternating dark\n",
    "# text and white lines\n",
    "rms = lambda x_seq: (sum(x * x for x in x_seq) / len(x_seq)) ** (1 / 2)\n",
    "# r = array([lambda x_seq: (sum(x*x for x in x_seq)/len(x_seq))**(1/2) for line in sinogram.transpose()])\n",
    "r = array([rms(line) for line in sinogram.transpose()])\n",
    "rotation = argmax(r)\n",
    "print(\"Rotation: {:.2f} degrees\".format(90 - rotation))\n",
    "plt.axhline(rotation, color=\"r\")\n",
    "\n",
    "# Plot the busy row\n",
    "row = sinogram[:, rotation]\n",
    "N = len(row)\n",
    "plt.subplot(2, 2, 3)\n",
    "plt.plot(row)\n",
    "\n",
    "# Take spectrum of busy row and find line spacing\n",
    "window = blackman(N)\n",
    "spectrum = rfft(row * window)\n",
    "plt.plot(row * window)\n",
    "frequency = argmax(abs(spectrum))\n",
    "line_spacing = N / frequency  # pixels\n",
    "print(\"Line spacing: {:.2f} pixels\".format(line_spacing))\n",
    "\n",
    "plt.subplot(2, 2, 4)\n",
    "plt.plot(abs(spectrum))\n",
    "plt.axvline(frequency, color=\"r\")\n",
    "plt.yscale(\"log\")\n",
    "plt.show()"
   ]
  },
  {
   "cell_type": "code",
   "execution_count": null,
   "metadata": {},
   "outputs": [],
   "source": [
    "# rotating a image 90 deg counter clockwise\n",
    "rot = rotation - 90\n",
    "im1 = Image.open(path_before)\n",
    "# im1 = im1.rotate(rot, Resampling.NEAREST , expand = 1)\n",
    "im1 = im1.rotate(rot)\n",
    "\n",
    "# to show specified image\n",
    "# plt.get_frame()\n",
    "plt.axis(\"off\")\n",
    "# plt.ax.set_frame_on(False)\n",
    "plt.xticks([])\n",
    "plt.yticks([])\n",
    "plt.imshow(im1)\n",
    "plt.savefig(path_after, bbox_inches=\"tight\")"
   ]
  }
 ],
 "metadata": {
  "kernelspec": {
   "display_name": ".venv",
   "language": "python",
   "name": "python3"
  },
  "language_info": {
   "codemirror_mode": {
    "name": "ipython",
    "version": 3
   },
   "file_extension": ".py",
   "mimetype": "text/x-python",
   "name": "python",
   "nbconvert_exporter": "python",
   "pygments_lexer": "ipython3",
   "version": "3.10.9"
  },
  "orig_nbformat": 4,
  "vscode": {
   "interpreter": {
    "hash": "28545515fc475c3be48665e4e6c44f817ffed683d6dc16fcefd58fab03281583"
   }
  }
 },
 "nbformat": 4,
 "nbformat_minor": 2
}
